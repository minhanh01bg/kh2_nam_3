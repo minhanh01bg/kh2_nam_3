{
 "cells": [
  {
   "cell_type": "code",
   "execution_count": 7,
   "metadata": {},
   "outputs": [
    {
     "name": "stdout",
     "output_type": "stream",
     "text": [
      "(442, 10) (442,)\n",
      "age 189.88306604693156 0.00018591538140631827 171.84661043904728\n",
      "sex 1.6584326038107542 0.00111812545555675 0.24956136300674067\n",
      "bmi 199.74859020531284 0.0017217831668893174 19.51979812437796\n",
      "bp 470.7498780024832 0.0004140333375561112 191.30440103836415\n",
      "s1 565.6841813648534 7.946754379290557e-05 1197.717240742452\n",
      "s2 408.0922692153785 7.423480771868552e-05 924.9554940437704\n",
      "s3 -393.6587737659164 -0.00039592297398656224 167.29358538287124\n",
      "s4 42.82345876812262 0.004326826728041515 1.6652609356563135\n",
      "s5 22.789596052780094 0.014051284967407611 0.2728918982944974\n",
      "s6 338.9901345153445 0.0004315571482104963 132.16571243882152\n",
      "\n"
     ]
    }
   ],
   "source": [
    "\n",
    "from sklearn.datasets import load_diabetes\n",
    "import numpy as np\n",
    "import pandas as pd\n",
    "X,Y = load_diabetes(as_frame=True,return_X_y=True,scaled=False)\n",
    "print(X.shape,Y.shape)\n",
    "# print(X)\n",
    "\n",
    "def sum(X):\n",
    "    s = 0\n",
    "    for i in range(len(X)):\n",
    "        s = s + X[i]\n",
    "        # print(X[i])\n",
    "    return s\n",
    "def mean(x):\n",
    "    return sum(x)/len(x)\n",
    "    \n",
    "def covariance1(x,y):\n",
    "    s = 0\n",
    "    mean_x = mean(x)\n",
    "    mean_y = mean(y)\n",
    "    for i in range(len(x)):\n",
    "        s = s + (x[i]-mean_x)*(y[i]-mean_y)\n",
    "    return s/(len(x)-1)\n",
    "\n",
    "def cov(x):\n",
    "    s = 0\n",
    "    mean_x = mean(x)\n",
    "    for i in range(len(x)):\n",
    "        s = s + (x[i]-mean_x)*(x[i]-mean_x)\n",
    "    return s/(len(x)-1)\n",
    "\n",
    "def correlation(x,y):\n",
    "    std_x = cov(x)\n",
    "    std_y = cov(y)\n",
    "    return covariance1(x,y)/(std_x*std_y)\n",
    "\n",
    "for i in range(10):\n",
    "    print(X.columns[i],covariance1(X.iloc[:,i],Y),correlation(X.iloc[:,i],Y),cov(X.iloc[:,i]))\n",
    "\n",
    "print()"
   ]
  }
 ],
 "metadata": {
  "kernelspec": {
   "display_name": "Python 3",
   "language": "python",
   "name": "python3"
  },
  "language_info": {
   "codemirror_mode": {
    "name": "ipython",
    "version": 3
   },
   "file_extension": ".py",
   "mimetype": "text/x-python",
   "name": "python",
   "nbconvert_exporter": "python",
   "pygments_lexer": "ipython3",
   "version": "3.10.7 (tags/v3.10.7:6cc6b13, Sep  5 2022, 14:08:36) [MSC v.1933 64 bit (AMD64)]"
  },
  "orig_nbformat": 4,
  "vscode": {
   "interpreter": {
    "hash": "31e98c37b9cc7e46512ebe084386b0e5d5e209bf48f38eb64eb1a4dbc86c8947"
   }
  }
 },
 "nbformat": 4,
 "nbformat_minor": 2
}
