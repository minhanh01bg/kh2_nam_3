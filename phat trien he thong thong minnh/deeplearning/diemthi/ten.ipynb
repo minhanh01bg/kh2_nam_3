{
 "cells": [
  {
   "cell_type": "code",
   "execution_count": 22,
   "metadata": {},
   "outputs": [],
   "source": [
    "from tensorflow.keras.models import load_model,Sequential\n",
    "from tensorflow.keras.layers import Dense,Dropout,Flatten,Conv2D\n",
    "import matplotlib.pyplot as plt\n",
    "import pandas as pd\n",
    "import numpy as np\n",
    "import seaborn as sns\n",
    "from sklearn.model_selection import train_test_split\n",
    "import tensorflow.compat.v1 as tf"
   ]
  },
  {
   "cell_type": "code",
   "execution_count": 23,
   "metadata": {},
   "outputs": [
    {
     "name": "stdout",
     "output_type": "stream",
     "text": [
      "WARNING:tensorflow:From c:\\Users\\fancyma\\AppData\\Local\\Programs\\Python\\Python310\\lib\\site-packages\\tensorflow\\python\\compat\\v2_compat.py:107: disable_resource_variables (from tensorflow.python.ops.variable_scope) is deprecated and will be removed in a future version.\n",
      "Instructions for updating:\n",
      "non-resource variables are not supported in the long term\n"
     ]
    }
   ],
   "source": [
    "tf.disable_v2_behavior()\n",
    "\n",
    "df = pd.concat(map(pd.read_csv,['./lop71.csv','./lop72.csv']),ignore_index=True)\n",
    "\n",
    "df.fillna(df.mean(),inplace=True)\n",
    "\n",
    "\n",
    "df['10%'] = df['10%'] * 0.1\n",
    "df['20%_1'] = df['20%_1'] * 0.2\n",
    "df['20%_2'] = df['20%_2'] * 0.2\n",
    "\n",
    "df['10%'] = (df['10%'] - df['10%'].min())/(df['10%'].max()-df['10%'].min())\n",
    "df['20%_1'] = (df['20%_1'] - df['20%_1'].min())/(df['20%_1'].max()-df['20%_1'].min())\n",
    "df['20%_2'] = (df['20%_2'] - df['20%_2'].min())/(df['20%_2'].max()-df['20%_2'].min())\n",
    "\n",
    "train = df.iloc[:,1:4]\n",
    "label = df.iloc[:,-1:]"
   ]
  },
  {
   "cell_type": "code",
   "execution_count": 26,
   "metadata": {},
   "outputs": [],
   "source": [
    "n_dim = 3\n",
    "\n",
    "tf.reset_default_graph()\n",
    "n1 = 5\n",
    "n2 = 1\n",
    "\n",
    "cost_history = np.empty(shape=[1],dtype=float)\n",
    "\n",
    "learning_rate = tf.placeholder(tf.float32,shape=())\n",
    "\n",
    "X = tf.placeholder(tf.float32,[n_dim,None])\n",
    "Y = tf.placeholder(tf.float32,[1,None])\n",
    "\n",
    "W1 = tf.Variable(tf.truncated_normal([n1,n_dim],stddev=0.1))\n",
    "b1 = tf.Variable(tf.zeros([n1,1]))\n",
    "W2 = tf.Variable(tf.truncated_normal([n2,n1],stddev=0.1))\n",
    "b2 = tf.Variable(tf.zeros([n2,1]))\n",
    "\n",
    "Z1 = tf.nn.relu(tf.matmul(W1,X) + b1)\n",
    "Z2 = tf.nn.relu(tf.matmul(W2,Z1) + b2)\n",
    "\n"
   ]
  }
 ],
 "metadata": {
  "kernelspec": {
   "display_name": "Python 3",
   "language": "python",
   "name": "python3"
  },
  "language_info": {
   "codemirror_mode": {
    "name": "ipython",
    "version": 3
   },
   "file_extension": ".py",
   "mimetype": "text/x-python",
   "name": "python",
   "nbconvert_exporter": "python",
   "pygments_lexer": "ipython3",
   "version": "3.10.6 (tags/v3.10.6:9c7b4bd, Aug  1 2022, 21:53:49) [MSC v.1932 64 bit (AMD64)]"
  },
  "orig_nbformat": 4,
  "vscode": {
   "interpreter": {
    "hash": "6a3ffae8020a817511732d4d0fe02060948831585d778b076daf6741c73f247a"
   }
  }
 },
 "nbformat": 4,
 "nbformat_minor": 2
}
