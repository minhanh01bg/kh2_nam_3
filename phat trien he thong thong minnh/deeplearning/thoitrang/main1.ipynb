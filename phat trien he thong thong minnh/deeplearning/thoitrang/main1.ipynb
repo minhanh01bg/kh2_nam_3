{
 "cells": [
  {
   "cell_type": "code",
   "execution_count": 3,
   "metadata": {},
   "outputs": [],
   "source": [
    "import pandas as pd\n",
    "import numpy as np\n",
    "import tensorflow as tf\n",
    "%matplotlib inline\n",
    "import matplotlib\n",
    "import matplotlib.pyplot as plt\n",
    "from random import *"
   ]
  },
  {
   "cell_type": "code",
   "execution_count": 4,
   "metadata": {},
   "outputs": [],
   "source": [
    "# load data\n",
    "data_train = pd.read_csv('./data/fashion-mnist_train.csv', header = 0)"
   ]
  },
  {
   "cell_type": "code",
   "execution_count": 5,
   "metadata": {},
   "outputs": [
    {
     "data": {
      "text/html": [
       "<div>\n",
       "<style scoped>\n",
       "    .dataframe tbody tr th:only-of-type {\n",
       "        vertical-align: middle;\n",
       "    }\n",
       "\n",
       "    .dataframe tbody tr th {\n",
       "        vertical-align: top;\n",
       "    }\n",
       "\n",
       "    .dataframe thead th {\n",
       "        text-align: right;\n",
       "    }\n",
       "</style>\n",
       "<table border=\"1\" class=\"dataframe\">\n",
       "  <thead>\n",
       "    <tr style=\"text-align: right;\">\n",
       "      <th></th>\n",
       "      <th>label</th>\n",
       "      <th>pixel1</th>\n",
       "      <th>pixel2</th>\n",
       "      <th>pixel3</th>\n",
       "      <th>pixel4</th>\n",
       "      <th>pixel5</th>\n",
       "      <th>pixel6</th>\n",
       "      <th>pixel7</th>\n",
       "      <th>pixel8</th>\n",
       "      <th>pixel9</th>\n",
       "      <th>...</th>\n",
       "      <th>pixel775</th>\n",
       "      <th>pixel776</th>\n",
       "      <th>pixel777</th>\n",
       "      <th>pixel778</th>\n",
       "      <th>pixel779</th>\n",
       "      <th>pixel780</th>\n",
       "      <th>pixel781</th>\n",
       "      <th>pixel782</th>\n",
       "      <th>pixel783</th>\n",
       "      <th>pixel784</th>\n",
       "    </tr>\n",
       "  </thead>\n",
       "  <tbody>\n",
       "    <tr>\n",
       "      <th>0</th>\n",
       "      <td>2</td>\n",
       "      <td>0</td>\n",
       "      <td>0</td>\n",
       "      <td>0</td>\n",
       "      <td>0</td>\n",
       "      <td>0</td>\n",
       "      <td>0</td>\n",
       "      <td>0</td>\n",
       "      <td>0</td>\n",
       "      <td>0</td>\n",
       "      <td>...</td>\n",
       "      <td>0</td>\n",
       "      <td>0</td>\n",
       "      <td>0</td>\n",
       "      <td>0</td>\n",
       "      <td>0</td>\n",
       "      <td>0</td>\n",
       "      <td>0</td>\n",
       "      <td>0</td>\n",
       "      <td>0</td>\n",
       "      <td>0</td>\n",
       "    </tr>\n",
       "    <tr>\n",
       "      <th>1</th>\n",
       "      <td>9</td>\n",
       "      <td>0</td>\n",
       "      <td>0</td>\n",
       "      <td>0</td>\n",
       "      <td>0</td>\n",
       "      <td>0</td>\n",
       "      <td>0</td>\n",
       "      <td>0</td>\n",
       "      <td>0</td>\n",
       "      <td>0</td>\n",
       "      <td>...</td>\n",
       "      <td>0</td>\n",
       "      <td>0</td>\n",
       "      <td>0</td>\n",
       "      <td>0</td>\n",
       "      <td>0</td>\n",
       "      <td>0</td>\n",
       "      <td>0</td>\n",
       "      <td>0</td>\n",
       "      <td>0</td>\n",
       "      <td>0</td>\n",
       "    </tr>\n",
       "    <tr>\n",
       "      <th>2</th>\n",
       "      <td>6</td>\n",
       "      <td>0</td>\n",
       "      <td>0</td>\n",
       "      <td>0</td>\n",
       "      <td>0</td>\n",
       "      <td>0</td>\n",
       "      <td>0</td>\n",
       "      <td>0</td>\n",
       "      <td>5</td>\n",
       "      <td>0</td>\n",
       "      <td>...</td>\n",
       "      <td>0</td>\n",
       "      <td>0</td>\n",
       "      <td>0</td>\n",
       "      <td>30</td>\n",
       "      <td>43</td>\n",
       "      <td>0</td>\n",
       "      <td>0</td>\n",
       "      <td>0</td>\n",
       "      <td>0</td>\n",
       "      <td>0</td>\n",
       "    </tr>\n",
       "    <tr>\n",
       "      <th>3</th>\n",
       "      <td>0</td>\n",
       "      <td>0</td>\n",
       "      <td>0</td>\n",
       "      <td>0</td>\n",
       "      <td>1</td>\n",
       "      <td>2</td>\n",
       "      <td>0</td>\n",
       "      <td>0</td>\n",
       "      <td>0</td>\n",
       "      <td>0</td>\n",
       "      <td>...</td>\n",
       "      <td>3</td>\n",
       "      <td>0</td>\n",
       "      <td>0</td>\n",
       "      <td>0</td>\n",
       "      <td>0</td>\n",
       "      <td>1</td>\n",
       "      <td>0</td>\n",
       "      <td>0</td>\n",
       "      <td>0</td>\n",
       "      <td>0</td>\n",
       "    </tr>\n",
       "    <tr>\n",
       "      <th>4</th>\n",
       "      <td>3</td>\n",
       "      <td>0</td>\n",
       "      <td>0</td>\n",
       "      <td>0</td>\n",
       "      <td>0</td>\n",
       "      <td>0</td>\n",
       "      <td>0</td>\n",
       "      <td>0</td>\n",
       "      <td>0</td>\n",
       "      <td>0</td>\n",
       "      <td>...</td>\n",
       "      <td>0</td>\n",
       "      <td>0</td>\n",
       "      <td>0</td>\n",
       "      <td>0</td>\n",
       "      <td>0</td>\n",
       "      <td>0</td>\n",
       "      <td>0</td>\n",
       "      <td>0</td>\n",
       "      <td>0</td>\n",
       "      <td>0</td>\n",
       "    </tr>\n",
       "  </tbody>\n",
       "</table>\n",
       "<p>5 rows × 785 columns</p>\n",
       "</div>"
      ],
      "text/plain": [
       "   label  pixel1  pixel2  pixel3  pixel4  pixel5  pixel6  pixel7  pixel8  \\\n",
       "0      2       0       0       0       0       0       0       0       0   \n",
       "1      9       0       0       0       0       0       0       0       0   \n",
       "2      6       0       0       0       0       0       0       0       5   \n",
       "3      0       0       0       0       1       2       0       0       0   \n",
       "4      3       0       0       0       0       0       0       0       0   \n",
       "\n",
       "   pixel9  ...  pixel775  pixel776  pixel777  pixel778  pixel779  pixel780  \\\n",
       "0       0  ...         0         0         0         0         0         0   \n",
       "1       0  ...         0         0         0         0         0         0   \n",
       "2       0  ...         0         0         0        30        43         0   \n",
       "3       0  ...         3         0         0         0         0         1   \n",
       "4       0  ...         0         0         0         0         0         0   \n",
       "\n",
       "   pixel781  pixel782  pixel783  pixel784  \n",
       "0         0         0         0         0  \n",
       "1         0         0         0         0  \n",
       "2         0         0         0         0  \n",
       "3         0         0         0         0  \n",
       "4         0         0         0         0  \n",
       "\n",
       "[5 rows x 785 columns]"
      ]
     },
     "execution_count": 5,
     "metadata": {},
     "output_type": "execute_result"
    }
   ],
   "source": [
    "data_train.head()"
   ]
  },
  {
   "cell_type": "code",
   "execution_count": 6,
   "metadata": {},
   "outputs": [],
   "source": [
    "labels = data_train['label'].values.reshape(1, 60000) # 60000 labels\n",
    "train = data_train.drop('label', axis=1).transpose() # 784 features"
   ]
  },
  {
   "cell_type": "code",
   "execution_count": 7,
   "metadata": {},
   "outputs": [
    {
     "data": {
      "text/plain": [
       "0        2\n",
       "1        9\n",
       "2        6\n",
       "3        0\n",
       "4        3\n",
       "        ..\n",
       "59995    9\n",
       "59996    1\n",
       "59997    8\n",
       "59998    8\n",
       "59999    7\n",
       "Name: label, Length: 60000, dtype: int64"
      ]
     },
     "execution_count": 7,
     "metadata": {},
     "output_type": "execute_result"
    }
   ],
   "source": [
    "data_train['label']"
   ]
  },
  {
   "cell_type": "code",
   "execution_count": 8,
   "metadata": {},
   "outputs": [
    {
     "data": {
      "text/plain": [
       "(60000,)"
      ]
     },
     "execution_count": 8,
     "metadata": {},
     "output_type": "execute_result"
    }
   ],
   "source": [
    "data_train['label'].shape"
   ]
  },
  {
   "cell_type": "code",
   "execution_count": 9,
   "metadata": {},
   "outputs": [],
   "source": [
    "train = np.array(train / 255.0) # normalize vì giá trị của pixel nằm trong khoảng 0-255 nên chia cho 255 để chuẩn hóa về 0-1"
   ]
  },
  {
   "cell_type": "code",
   "execution_count": 10,
   "metadata": {},
   "outputs": [
    {
     "name": "stdout",
     "output_type": "stream",
     "text": [
      "[[0. 0. 0. ... 0. 0. 0.]\n",
      " [0. 0. 0. ... 0. 0. 0.]\n",
      " [1. 0. 0. ... 0. 0. 0.]\n",
      " ...\n",
      " [0. 0. 0. ... 0. 0. 1.]\n",
      " [0. 0. 0. ... 1. 1. 0.]\n",
      " [0. 1. 0. ... 0. 0. 0.]]\n"
     ]
    }
   ],
   "source": [
    "# Building a Model with tensorflow\n",
    "labels_ = np.zeros((60000, 10)) # 60000 labels, 10 classes (0-9)\n",
    "labels_[np.arange(60000), labels] = 1 # one hot encoding là cách biểu diễn dữ liệu dạng số thành dạng vector, ví dụ 1 số 5 sẽ được biểu diễn thành vector [0,0,0,0,0,1,0,0,0,0]\n",
    "labels_ = labels_.transpose() # 10 labels, 60000 examples là cách biểu diễn của tensorflow, transpose để đổi chỗ 2 chiều\n",
    "labels_ = np.array(labels_) # chuyển về dạng numpy array\n",
    "# mỗi một giá trị biểu thị cho một cột trong matrix\n",
    "print(labels_)"
   ]
  },
  {
   "cell_type": "code",
   "execution_count": 10,
   "metadata": {},
   "outputs": [],
   "source": [
    "# The tensor flow Model\n",
    "from tensorflow.python.framework import ops\n",
    "n_dim = 784 # 28 x 28 pixels là kích thước của ảnh\n",
    "ops.reset_default_graph() # reset graph để chạy lại model\n",
    "# Number of neurons in the layers là số lượng nút ẩn\n",
    "n1 = 5 # Number of neurons in layer 1 là số lượng nút ẩn của lớp 1\n",
    "n2 = 10 # Number of neurons in output layer là số lượng nút ẩn của lớp 2"
   ]
  },
  {
   "cell_type": "code",
   "execution_count": 14,
   "metadata": {},
   "outputs": [
    {
     "name": "stdout",
     "output_type": "stream",
     "text": [
      "WARNING:tensorflow:From c:\\Users\\anhdu\\AppData\\Local\\Programs\\Python\\Python310\\lib\\site-packages\\tensorflow\\python\\compat\\v2_compat.py:107: disable_resource_variables (from tensorflow.python.ops.variable_scope) is deprecated and will be removed in a future version.\n",
      "Instructions for updating:\n",
      "non-resource variables are not supported in the long term\n"
     ]
    }
   ],
   "source": [
    "import tensorflow.compat.v1 as tf\n",
    "tf.disable_v2_behavior()\n",
    "\n",
    "cost_history = np.empty(shape=[1], dtype = float) # cost history là lịch sử chi phí\n",
    "learning_rate = tf.placeholder(tf.float32, shape=()) # learning rate là tốc độ học\n",
    "X = tf.placeholder(tf.float32, [n_dim, None]) # placeholder cho dữ liệu đầu vào\n",
    "Y = tf.placeholder(tf.float32, [10, None]) # placeholder cho dữ liệu đầu ra\n",
    "W1 = tf.Variable(tf. truncated_normal ([n1, n_dim], stddev=.1)) # khởi tạo trọng số cho lớp 1\n",
    "b1 = tf.Variable(tf.zeros([n1,1])) # khởi tạo bias cho lớp 1\n",
    "W2 = tf.Variable(tf. truncated_normal ([n2, n1], stddev=.1)) # khởi tạo trọng số cho lớp 2\n",
    "b2 = tf.Variable(tf.zeros([n2,1])) # khởi tạo bias cho lớp 2\n",
    "# Let's build our network...\n",
    "Z1 = tf.nn.relu(tf.matmul(W1, X) + b1) # tính toán giá trị đầu ra của lớp 1\n",
    "Z2 = tf.nn.relu(tf.matmul(W2, Z1) + b2) # tính toán giá trị đầu ra của lớp 2\n",
    "y_ = tf.nn.softmax(Z2,0) # tính toán giá trị đầu ra của lớp 3\n",
    "cost = - tf.reduce_mean(Y * tf.log(y_)+(1-Y) * tf.log(1-y_)) # tính toán hàm mất mát\n",
    "optimizer = tf.train.AdamOptimizer(learning_rate).minimize(cost) # tối ưu hàm mất mát\n",
    "init = tf.global_variables_initializer() # khởi tạo biến toàn cục\n"
   ]
  },
  {
   "cell_type": "code",
   "execution_count": 16,
   "metadata": {},
   "outputs": [
    {
     "name": "stdout",
     "output_type": "stream",
     "text": [
      "Reached epoch 0 cost J = 0.3253602\n",
      "Reached epoch 20 cost J = 0.3122124\n",
      "Reached epoch 40 cost J = 0.2956843\n",
      "Reached epoch 60 cost J = 0.27464214\n",
      "Reached epoch 80 cost J = 0.25272465\n",
      "Reached epoch 100 cost J = 0.22746854\n",
      "Reached epoch 120 cost J = 0.209841\n",
      "Reached epoch 140 cost J = 0.1988092\n",
      "Reached epoch 160 cost J = 0.1909531\n",
      "Reached epoch 180 cost J = 0.1849414\n",
      "Reached epoch 200 cost J = 0.18018371\n",
      "Reached epoch 220 cost J = 0.17624068\n",
      "Reached epoch 240 cost J = 0.17287105\n",
      "Reached epoch 260 cost J = 0.16998734\n",
      "Reached epoch 280 cost J = 0.16751076\n",
      "Reached epoch 300 cost J = 0.1653664\n",
      "Reached epoch 320 cost J = 0.16349007\n",
      "Reached epoch 340 cost J = 0.16182916\n",
      "Reached epoch 360 cost J = 0.1603522\n",
      "Reached epoch 380 cost J = 0.15902013\n",
      "Reached epoch 400 cost J = 0.1578073\n",
      "Reached epoch 420 cost J = 0.15669315\n",
      "Reached epoch 440 cost J = 0.1556555\n",
      "Reached epoch 460 cost J = 0.15469404\n",
      "Reached epoch 480 cost J = 0.15363456\n",
      "Reached epoch 500 cost J = 0.15220426\n",
      "Reached epoch 520 cost J = 0.15074512\n",
      "Reached epoch 540 cost J = 0.1466063\n",
      "Reached epoch 560 cost J = 0.13014054\n",
      "Reached epoch 580 cost J = 0.12524308\n",
      "Reached epoch 600 cost J = 0.123539075\n",
      "Reached epoch 620 cost J = 0.122389674\n",
      "Reached epoch 640 cost J = 0.12147555\n",
      "Reached epoch 660 cost J = 0.12069891\n",
      "Reached epoch 680 cost J = 0.12001177\n",
      "Reached epoch 700 cost J = 0.11939255\n",
      "Reached epoch 720 cost J = 0.11882616\n",
      "Reached epoch 740 cost J = 0.11830306\n",
      "Reached epoch 760 cost J = 0.117815375\n",
      "Reached epoch 780 cost J = nan\n",
      "Reached epoch 800 cost J = nan\n",
      "Reached epoch 820 cost J = nan\n",
      "Reached epoch 840 cost J = nan\n",
      "Reached epoch 860 cost J = nan\n",
      "Reached epoch 880 cost J = nan\n",
      "Reached epoch 900 cost J = nan\n",
      "Reached epoch 920 cost J = nan\n",
      "Reached epoch 940 cost J = nan\n",
      "Reached epoch 960 cost J = nan\n",
      "Reached epoch 980 cost J = nan\n",
      "Reached epoch 1000 cost J = nan\n",
      "Reached epoch 1020 cost J = nan\n",
      "Reached epoch 1040 cost J = nan\n",
      "Reached epoch 1060 cost J = nan\n",
      "Reached epoch 1080 cost J = nan\n",
      "Reached epoch 1100 cost J = nan\n",
      "Reached epoch 1120 cost J = nan\n",
      "Reached epoch 1140 cost J = nan\n",
      "Reached epoch 1160 cost J = nan\n",
      "Reached epoch 1180 cost J = nan\n",
      "Reached epoch 1200 cost J = nan\n",
      "Reached epoch 1220 cost J = nan\n",
      "Reached epoch 1240 cost J = nan\n",
      "Reached epoch 1260 cost J = nan\n",
      "Reached epoch 1280 cost J = nan\n",
      "Reached epoch 1300 cost J = nan\n",
      "Reached epoch 1320 cost J = nan\n",
      "Reached epoch 1340 cost J = nan\n",
      "Reached epoch 1360 cost J = nan\n",
      "Reached epoch 1380 cost J = nan\n",
      "Reached epoch 1400 cost J = nan\n",
      "Reached epoch 1420 cost J = nan\n",
      "Reached epoch 1440 cost J = nan\n",
      "Reached epoch 1460 cost J = nan\n",
      "Reached epoch 1480 cost J = nan\n",
      "Reached epoch 1500 cost J = nan\n",
      "Reached epoch 1520 cost J = nan\n",
      "Reached epoch 1540 cost J = nan\n",
      "Reached epoch 1560 cost J = nan\n",
      "Reached epoch 1580 cost J = nan\n",
      "Reached epoch 1600 cost J = nan\n",
      "Reached epoch 1620 cost J = nan\n",
      "Reached epoch 1640 cost J = nan\n",
      "Reached epoch 1660 cost J = nan\n",
      "Reached epoch 1680 cost J = nan\n",
      "Reached epoch 1700 cost J = nan\n",
      "Reached epoch 1720 cost J = nan\n",
      "Reached epoch 1740 cost J = nan\n",
      "Reached epoch 1760 cost J = nan\n",
      "Reached epoch 1780 cost J = nan\n",
      "Reached epoch 1800 cost J = nan\n",
      "Reached epoch 1820 cost J = nan\n",
      "Reached epoch 1840 cost J = nan\n",
      "Reached epoch 1860 cost J = nan\n",
      "Reached epoch 1880 cost J = nan\n",
      "Reached epoch 1900 cost J = nan\n",
      "Reached epoch 1920 cost J = nan\n",
      "Reached epoch 1940 cost J = nan\n",
      "Reached epoch 1960 cost J = nan\n",
      "Reached epoch 1980 cost J = nan\n",
      "Reached epoch 2000 cost J = nan\n",
      "Reached epoch 2020 cost J = nan\n",
      "Reached epoch 2040 cost J = nan\n",
      "Reached epoch 2060 cost J = nan\n",
      "Reached epoch 2080 cost J = nan\n",
      "Reached epoch 2100 cost J = nan\n",
      "Reached epoch 2120 cost J = nan\n",
      "Reached epoch 2140 cost J = nan\n",
      "Reached epoch 2160 cost J = nan\n",
      "Reached epoch 2180 cost J = nan\n",
      "Reached epoch 2200 cost J = nan\n",
      "Reached epoch 2220 cost J = nan\n",
      "Reached epoch 2240 cost J = nan\n",
      "Reached epoch 2260 cost J = nan\n",
      "Reached epoch 2280 cost J = nan\n",
      "Reached epoch 2300 cost J = nan\n",
      "Reached epoch 2320 cost J = nan\n",
      "Reached epoch 2340 cost J = nan\n",
      "Reached epoch 2360 cost J = nan\n",
      "Reached epoch 2380 cost J = nan\n",
      "Reached epoch 2400 cost J = nan\n",
      "Reached epoch 2420 cost J = nan\n",
      "Reached epoch 2440 cost J = nan\n",
      "Reached epoch 2460 cost J = nan\n",
      "Reached epoch 2480 cost J = nan\n",
      "Reached epoch 2500 cost J = nan\n",
      "Reached epoch 2520 cost J = nan\n",
      "Reached epoch 2540 cost J = nan\n",
      "Reached epoch 2560 cost J = nan\n",
      "Reached epoch 2580 cost J = nan\n",
      "Reached epoch 2600 cost J = nan\n",
      "Reached epoch 2620 cost J = nan\n",
      "Reached epoch 2640 cost J = nan\n",
      "Reached epoch 2660 cost J = nan\n",
      "Reached epoch 2680 cost J = nan\n",
      "Reached epoch 2700 cost J = nan\n",
      "Reached epoch 2720 cost J = nan\n",
      "Reached epoch 2740 cost J = nan\n",
      "Reached epoch 2760 cost J = nan\n",
      "Reached epoch 2780 cost J = nan\n",
      "Reached epoch 2800 cost J = nan\n",
      "Reached epoch 2820 cost J = nan\n",
      "Reached epoch 2840 cost J = nan\n",
      "Reached epoch 2860 cost J = nan\n",
      "Reached epoch 2880 cost J = nan\n",
      "Reached epoch 2900 cost J = nan\n",
      "Reached epoch 2920 cost J = nan\n",
      "Reached epoch 2940 cost J = nan\n",
      "Reached epoch 2960 cost J = nan\n",
      "Reached epoch 2980 cost J = nan\n",
      "Reached epoch 3000 cost J = nan\n",
      "Reached epoch 3020 cost J = nan\n",
      "Reached epoch 3040 cost J = nan\n",
      "Reached epoch 3060 cost J = nan\n",
      "Reached epoch 3080 cost J = nan\n",
      "Reached epoch 3100 cost J = nan\n",
      "Reached epoch 3120 cost J = nan\n",
      "Reached epoch 3140 cost J = nan\n",
      "Reached epoch 3160 cost J = nan\n",
      "Reached epoch 3180 cost J = nan\n",
      "Reached epoch 3200 cost J = nan\n",
      "Reached epoch 3220 cost J = nan\n",
      "Reached epoch 3240 cost J = nan\n",
      "Reached epoch 3260 cost J = nan\n",
      "Reached epoch 3280 cost J = nan\n",
      "Reached epoch 3300 cost J = nan\n",
      "Reached epoch 3320 cost J = nan\n",
      "Reached epoch 3340 cost J = nan\n",
      "Reached epoch 3360 cost J = nan\n",
      "Reached epoch 3380 cost J = nan\n",
      "Reached epoch 3400 cost J = nan\n",
      "Reached epoch 3420 cost J = nan\n",
      "Reached epoch 3440 cost J = nan\n",
      "Reached epoch 3460 cost J = nan\n",
      "Reached epoch 3480 cost J = nan\n",
      "Reached epoch 3500 cost J = nan\n",
      "Reached epoch 3520 cost J = nan\n",
      "Reached epoch 3540 cost J = nan\n",
      "Reached epoch 3560 cost J = nan\n",
      "Reached epoch 3580 cost J = nan\n",
      "Reached epoch 3600 cost J = nan\n",
      "Reached epoch 3620 cost J = nan\n",
      "Reached epoch 3640 cost J = nan\n",
      "Reached epoch 3660 cost J = nan\n",
      "Reached epoch 3680 cost J = nan\n",
      "Reached epoch 3700 cost J = nan\n",
      "Reached epoch 3720 cost J = nan\n",
      "Reached epoch 3740 cost J = nan\n",
      "Reached epoch 3760 cost J = nan\n",
      "Reached epoch 3780 cost J = nan\n",
      "Reached epoch 3800 cost J = nan\n",
      "Reached epoch 3820 cost J = nan\n",
      "Reached epoch 3840 cost J = nan\n",
      "Reached epoch 3860 cost J = nan\n",
      "Reached epoch 3880 cost J = nan\n",
      "Reached epoch 3900 cost J = nan\n",
      "Reached epoch 3920 cost J = nan\n",
      "Reached epoch 3940 cost J = nan\n",
      "Reached epoch 3960 cost J = nan\n",
      "Reached epoch 3980 cost J = nan\n",
      "Reached epoch 4000 cost J = nan\n",
      "Reached epoch 4020 cost J = nan\n",
      "Reached epoch 4040 cost J = nan\n",
      "Reached epoch 4060 cost J = nan\n",
      "Reached epoch 4080 cost J = nan\n",
      "Reached epoch 4100 cost J = nan\n",
      "Reached epoch 4120 cost J = nan\n",
      "Reached epoch 4140 cost J = nan\n",
      "Reached epoch 4160 cost J = nan\n",
      "Reached epoch 4180 cost J = nan\n",
      "Reached epoch 4200 cost J = nan\n",
      "Reached epoch 4220 cost J = nan\n",
      "Reached epoch 4240 cost J = nan\n",
      "Reached epoch 4260 cost J = nan\n",
      "Reached epoch 4280 cost J = nan\n",
      "Reached epoch 4300 cost J = nan\n",
      "Reached epoch 4320 cost J = nan\n",
      "Reached epoch 4340 cost J = nan\n",
      "Reached epoch 4360 cost J = nan\n",
      "Reached epoch 4380 cost J = nan\n",
      "Reached epoch 4400 cost J = nan\n",
      "Reached epoch 4420 cost J = nan\n",
      "Reached epoch 4440 cost J = nan\n",
      "Reached epoch 4460 cost J = nan\n",
      "Reached epoch 4480 cost J = nan\n",
      "Reached epoch 4500 cost J = nan\n",
      "Reached epoch 4520 cost J = nan\n",
      "Reached epoch 4540 cost J = nan\n",
      "Reached epoch 4560 cost J = nan\n",
      "Reached epoch 4580 cost J = nan\n",
      "Reached epoch 4600 cost J = nan\n",
      "Reached epoch 4620 cost J = nan\n",
      "Reached epoch 4640 cost J = nan\n",
      "Reached epoch 4660 cost J = nan\n",
      "Reached epoch 4680 cost J = nan\n",
      "Reached epoch 4700 cost J = nan\n",
      "Reached epoch 4720 cost J = nan\n",
      "Reached epoch 4740 cost J = nan\n",
      "Reached epoch 4760 cost J = nan\n",
      "Reached epoch 4780 cost J = nan\n",
      "Reached epoch 4800 cost J = nan\n",
      "Reached epoch 4820 cost J = nan\n",
      "Reached epoch 4840 cost J = nan\n",
      "Reached epoch 4860 cost J = nan\n",
      "Reached epoch 4880 cost J = nan\n",
      "Reached epoch 4900 cost J = nan\n",
      "Reached epoch 4920 cost J = nan\n",
      "Reached epoch 4940 cost J = nan\n",
      "Reached epoch 4960 cost J = nan\n",
      "Reached epoch 4980 cost J = nan\n",
      "Reached epoch 5000 cost J = nan\n"
     ]
    }
   ],
   "source": [
    "sess = tf.Session() # khởi tạo phiên làm việc\n",
    "sess.run(tf.global_variables_initializer()) # khởi tạo biến toàn cục\n",
    "training_epochs = 5000 # số lần lặp lại quá trình học\n",
    "cost_history = [] # lịch sử chi phí\n",
    "for epoch in range(training_epochs+1): # lặp lại quá trình học\n",
    " sess.run(optimizer, feed_dict = {X: train, Y: labels_, learning_rate: 0.001}) # tối ưu hàm mất mát\n",
    " cost_ = sess.run(cost, feed_dict={ X:train, Y: labels_, learning_rate: 0.001}) # tính toán hàm mất mát\n",
    " cost_history = np.append(cost_history, cost_) # lưu lại lịch sử chi phí\n",
    " if (epoch % 20 == 0):\n",
    "    print(\"Reached epoch\",epoch,\"cost J =\", cost_) # in ra chi phí sau mỗi 20 lần lặp lại quá trình học"
   ]
  },
  {
   "cell_type": "code",
   "execution_count": 17,
   "metadata": {},
   "outputs": [
    {
     "name": "stdout",
     "output_type": "stream",
     "text": [
      "Accuracy: 0.1\n"
     ]
    }
   ],
   "source": [
    "correct_predictions = tf.equal(tf.argmax(y_,0), tf.argmax(Y,0)) # tính toán số lượng dự đoán đúng, tf.argmax(y_,0) là giá trị dự đoán khả năng cao nhất của mỗi ảnh, tf.argmax(Y,0) là giá trị thực tế của mỗi ảnh\n",
    "# hàm tf.equal() trả về True nếu 2 giá trị bằng nhau và False nếu 2 giá trị khác nhau\n",
    "# hàm tf.argmax() trả về chỉ số của giá trị lớn nhất trong một vector\n",
    "accuracy = tf.reduce_mean(tf.cast(correct_predictions, \"float\")) # tính toán độ chính xác, hàm tf.cast() chuyển đổi giá trị True thành 1 và False thành 0\n",
    "print (\"Accuracy:\", accuracy.eval({X: train, Y: labels_, learning_rate: 0.001}, session = sess)) # in ra độ chính xác"
   ]
  },
  {
   "cell_type": "code",
   "execution_count": 19,
   "metadata": {},
   "outputs": [],
   "source": [
    "data_dev = pd.read_csv('fashion-mnist_test.csv', header = 0) # đọc dữ liệu test\n",
    "labels_dev = data_dev['label'].values.reshape(1, 10000) # lấy nhãn của dữ liệu test\n",
    "labels_dev_ = np.zeros((10000, 10)) # khởi tạo mảng 0 với kích thước 10000x10\n",
    "labels_dev_[np.arange(10000), labels_dev] = 1 # chuyển đổi nhãn thành one-hot encoding, ví dụ nhãn 2 sẽ được chuyển thành [0,0,1,0,0,0,0,0,0,0]\n",
    "labels_dev_ = labels_dev_.transpose() # chuyển vị ma trận\n",
    "dev = data_dev.drop('label', axis=1).transpose() # lấy dữ liệu test và chuyển vị ma trận"
   ]
  },
  {
   "cell_type": "code",
   "execution_count": 20,
   "metadata": {},
   "outputs": [
    {
     "name": "stdout",
     "output_type": "stream",
     "text": [
      "Accuracy: 0.1\n"
     ]
    }
   ],
   "source": [
    "correct_predictions = tf.equal(tf.argmax(y_,0), tf.argmax(Y,0))\n",
    "accuracy = tf.reduce_mean(tf.cast(correct_predictions, \"float\"))\n",
    "print (\"Accuracy:\", accuracy.eval({X: dev, Y: labels_dev_, learning_rate:\n",
    "0.001}, session = sess))"
   ]
  },
  {
   "cell_type": "code",
   "execution_count": 21,
   "metadata": {},
   "outputs": [
    {
     "name": "stdout",
     "output_type": "stream",
     "text": [
      "Reached epoch 0 cost J = 0.322951\n",
      "Reached epoch 50 cost J = 0.21640286\n",
      "Reached epoch 100 cost J = 0.20742059\n"
     ]
    }
   ],
   "source": [
    "# Batch Gradient Descent là một thuật toán tối ưu hàm mất mát, nó sẽ lặp lại quá trình học cho đến khi hàm mất mát không thể giảm nữa\n",
    "sess = tf.Session()\n",
    "sess.run(tf.global_variables_initializer())\n",
    "training_epochs = 100\n",
    "cost_history = []\n",
    "for epoch in range(training_epochs+1):\n",
    " sess.run(optimizer, feed_dict = {X: train, Y: labels_, learning_rate:0.01})\n",
    " cost_ = sess.run(cost, feed_dict={ X:train, Y: labels_, learning_rate:0.01})\n",
    " cost_history = np.append(cost_history, cost_)\n",
    " if (epoch % 50 == 0):\n",
    "    print(\"Reached epoch\",epoch,\"cost J =\", cost_)"
   ]
  },
  {
   "cell_type": "code",
   "execution_count": 22,
   "metadata": {},
   "outputs": [
    {
     "name": "stdout",
     "output_type": "stream",
     "text": [
      "Accuracy: 0.45683333\n"
     ]
    }
   ],
   "source": [
    "correct_predictions = tf.equal(tf.argmax(y_,0), tf.argmax(Y,0))\n",
    "accuracy = tf.reduce_mean(tf.cast(correct_predictions, \"float\"))\n",
    "print (\"Accuracy:\", accuracy.eval({X: train, Y: labels_, learning_rate:0.001}, session = sess))\n"
   ]
  },
  {
   "cell_type": "code",
   "execution_count": null,
   "metadata": {},
   "outputs": [],
   "source": [
    "# Stochastic Gradient Descent"
   ]
  },
  {
   "cell_type": "code",
   "execution_count": 23,
   "metadata": {},
   "outputs": [
    {
     "name": "stdout",
     "output_type": "stream",
     "text": [
      "Reached epoch 0 cost J = 0.289533\n",
      "Reached epoch 50 cost J = 0.19098035\n",
      "Reached epoch 100 cost J = nan\n"
     ]
    }
   ],
   "source": [
    "sess = tf.Session()\n",
    "sess.run(tf.global_variables_initializer())\n",
    "cost_history = []\n",
    "for epoch in range(100+1):\n",
    "    for i in range(0, 60000, 100):\n",
    "        X_train_mini = train[:, i:i+100]\n",
    "        y_train_mini = labels_[:, i:i+100]\n",
    "        sess.run(optimizer, feed_dict = {X: X_train_mini, Y: y_train_mini, learning_rate: 0.0001})\n",
    "        cost_ = sess.run(cost, feed_dict={ X:X_train_mini, Y: y_train_mini, learning_rate: 0.0001})\n",
    "    cost_history = np.append(cost_history, cost_)\n",
    "    if (epoch % 50 == 0):\n",
    "        print(\"Reached epoch\",epoch,\"cost J =\", cost_)"
   ]
  },
  {
   "cell_type": "code",
   "execution_count": 25,
   "metadata": {},
   "outputs": [
    {
     "name": "stdout",
     "output_type": "stream",
     "text": [
      "Accuracy: 0.35521665\n"
     ]
    }
   ],
   "source": [
    "# Accuracy\n",
    "correct_predictions = tf.equal(tf.argmax(y_,0), tf.argmax(Y,0))\n",
    "accuracy = tf.reduce_mean(tf.cast(correct_predictions, \"float\"))\n",
    "print (\"Accuracy:\", accuracy.eval({X: train, Y: labels_, learning_rate:0.001}, session = sess))"
   ]
  },
  {
   "cell_type": "code",
   "execution_count": 24,
   "metadata": {},
   "outputs": [
    {
     "name": "stdout",
     "output_type": "stream",
     "text": [
      "Reached epoch 0 cost J = 0.3247578\n",
      "Reached epoch 50 cost J = 0.2785224\n",
      "Reached epoch 100 cost J = 0.23683165\n"
     ]
    }
   ],
   "source": [
    "# Mini-Batch Gradient Descent\n",
    "sess = tf.Session()\n",
    "sess.run(tf.global_variables_initializer())\n",
    "cost_history = []\n",
    "for epoch in range(100+1):\n",
    "    for i in range(0, 60000, 50):\n",
    "        X_train_mini = train[:, i:i+50]\n",
    "        y_train_mini = labels_[:, i:i+50]\n",
    "    sess.run(optimizer, feed_dict = {X: X_train_mini,Y: y_train_mini,learning_rate: 0.001})\n",
    "    cost_ = sess.run(cost, feed_dict={ X:X_train_mini, Y: y_train_mini, learning_rate: 0.001})\n",
    "    cost_history = np.append(cost_history, cost_)\n",
    "    if (epoch % 50 == 0):\n",
    "        print(\"Reached epoch\",epoch,\"cost J =\", cost_)\n"
   ]
  },
  {
   "cell_type": "code",
   "execution_count": 26,
   "metadata": {},
   "outputs": [
    {
     "name": "stdout",
     "output_type": "stream",
     "text": [
      "Accuracy: 0.35521665\n"
     ]
    }
   ],
   "source": [
    "# Accuracy\n",
    "correct_predictions = tf.equal(tf.argmax(y_,0), tf.argmax(Y,0))\n",
    "accuracy = tf.reduce_mean(tf.cast(correct_predictions, \"float\"))\n",
    "print (\"Accuracy:\", accuracy.eval({X: train, Y: labels_, learning_rate:0.001}, session = sess))"
   ]
  },
  {
   "cell_type": "code",
   "execution_count": 11,
   "metadata": {},
   "outputs": [],
   "source": [
    "# model\n",
    "import tensorflow.compat.v1 as tf\n",
    "tf.disable_v2_behavior()\n",
    "\n",
    "def model(minibatch_size, training_epochs, features, classes, logging_step = 100, learning_r = 0.001):\n",
    "    sess = tf.Session()\n",
    "    sess.run(tf.global_variables_initializer())\n",
    "    cost_history = []\n",
    "    for epoch in range(training_epochs+1):\n",
    "        for i in range(0, 60000, minibatch_size):\n",
    "            X_train_mini = features[:, i:i+minibatch_size]\n",
    "            y_train_mini = classes[:, i:i+minibatch_size]\n",
    "            sess.run(optimizer, feed_dict = {X: X_train_mini,Y: y_train_mini,learning_rate: learning_r})\n",
    "            cost_ = sess.run(cost, feed_dict={ X:X_train_mini, Y: y_train_mini, learning_rate: learning_r})\n",
    "            cost_history = np.append(cost_history, cost_)\n",
    "        if (epoch % logging_step == 0):\n",
    "            print(\"Reached epoch\",epoch,\"cost J =\", cost_)\n",
    "    correct_predictions = tf.equal(tf.argmax(y_,0), tf.argmax(Y,0))\n",
    "    accuracy = tf.reduce_mean(tf.cast(correct_predictions, \"float\"))\n",
    "    print (\"Accuracy:\", accuracy.eval({X: features, Y: classes, learning_rate:learning_r}, session = sess))\n",
    "    return sess, cost_history\n"
   ]
  },
  {
   "cell_type": "code",
   "execution_count": 12,
   "metadata": {},
   "outputs": [],
   "source": [
    "# thêm layer\n",
    "def create_layer (X, n, activation):\n",
    "    ndim = int(X.shape[0]) # số chiều của ma trận X\n",
    "    stddev = 2 / np.sqrt(ndim) # độ lệch chuẩn\n",
    "    initialization = tf.truncated_normal((n, ndim), stddev = stddev) # khởi tạo ma trận trọng số\n",
    "    W = tf.Variable(initialization) # khởi tạo trọng số\n",
    "    b = tf.Variable(tf.zeros([n,1])) # khởi tạo bias\n",
    "    Z = tf.matmul(W,X)+b # tính Z\n",
    "    return activation(Z)"
   ]
  },
  {
   "cell_type": "code",
   "execution_count": 13,
   "metadata": {},
   "outputs": [],
   "source": [
    "n_dim = 784\n",
    "n1 = 300\n",
    "n2 = 300\n",
    "n_outputs = 10\n",
    "X = tf.placeholder(tf.float32, [n_dim, None])\n",
    "Y = tf.placeholder(tf.float32, [10, None])\n",
    "learning_rate = tf.placeholder(tf.float32, shape=()) # learning rate\n",
    "hidden1 = create_layer (X, n1, activation = tf.nn.relu)\n",
    "hidden2 = create_layer (hidden1, n2, activation = tf.nn.relu)\n",
    "outputs = create_layer (hidden2, n_outputs, activation = tf.identity) # layer 3\n",
    "y_ = tf.nn.softmax(outputs) # softmax\n",
    "cost = - tf.reduce_mean(Y * tf.log(y_)+(1-Y) * tf.log(1-y_)) # cost function\n",
    "optimizer = tf.train.GradientDescentOptimizer(learning_rate).minimize(cost) # optimizer"
   ]
  },
  {
   "cell_type": "code",
   "execution_count": 69,
   "metadata": {},
   "outputs": [
    {
     "name": "stdout",
     "output_type": "stream",
     "text": [
      "Reached epoch 0 cost J = 0.43582654\n",
      "Reached epoch 50 cost J = 0.32179788\n",
      "Reached epoch 100 cost J = 0.3119525\n",
      "Accuracy: 0.8088167\n"
     ]
    }
   ],
   "source": [
    "# run model\n",
    "sess, cost_history = model(100, 100, train, labels_, logging_step = 50, learning_r = 0.001)"
   ]
  },
  {
   "cell_type": "code",
   "execution_count": 73,
   "metadata": {},
   "outputs": [
    {
     "name": "stdout",
     "output_type": "stream",
     "text": [
      "Reached epoch 0 cost J = 0.4703095\n",
      "Reached epoch 50 cost J = 0.32860017\n",
      "Accuracy: 0.78328335\n"
     ]
    }
   ],
   "source": [
    "# 50 epochs , minibatch size = 100, learning rate = 0.001\n",
    "sess, cost_history = model(100, 50, train, labels_, logging_step = 50, learning_r = 0.001)"
   ]
  },
  {
   "cell_type": "code",
   "execution_count": 70,
   "metadata": {},
   "outputs": [
    {
     "name": "stdout",
     "output_type": "stream",
     "text": [
      "Reached epoch 0 cost J = 0.4534734\n",
      "Reached epoch 50 cost J = 0.32354823\n",
      "Reached epoch 100 cost J = 0.31442282\n",
      "Reached epoch 150 cost J = 0.30993968\n",
      "Accuracy: 0.8242667\n"
     ]
    }
   ],
   "source": [
    "# 150 epochs , minibatch size = 100, learning rate = 0.001\n",
    "sess, cost_history = model(100, 150, train, labels_, logging_step = 50, learning_r = 0.001)"
   ]
  },
  {
   "cell_type": "code",
   "execution_count": 71,
   "metadata": {},
   "outputs": [
    {
     "name": "stdout",
     "output_type": "stream",
     "text": [
      "Reached epoch 0 cost J = 0.43224895\n",
      "Reached epoch 50 cost J = 0.32067603\n",
      "Reached epoch 100 cost J = 0.31121284\n",
      "Reached epoch 150 cost J = 0.3060673\n",
      "Reached epoch 200 cost J = 0.30262154\n",
      "Accuracy: 0.8311\n"
     ]
    }
   ],
   "source": [
    "# 200 epochs , minibatch size = 100, learning rate = 0.001\n",
    "sess, cost_history = model(100, 200, train, labels_, logging_step = 50, learning_r = 0.001)"
   ]
  },
  {
   "cell_type": "code",
   "execution_count": 74,
   "metadata": {},
   "outputs": [
    {
     "name": "stdout",
     "output_type": "stream",
     "text": [
      "Reached epoch 0 cost J = 0.4417857\n",
      "Reached epoch 50 cost J = 0.3222163\n",
      "Reached epoch 100 cost J = 0.31078932\n",
      "Reached epoch 150 cost J = 0.3050323\n",
      "Reached epoch 200 cost J = 0.30128682\n",
      "Reached epoch 250 cost J = 0.29870793\n",
      "Accuracy: 0.83785\n"
     ]
    }
   ],
   "source": [
    "# 250 epochs , minibatch size = 100, learning rate = 0.001\n",
    "sess, cost_history = model(100, 250, train, labels_, logging_step = 50, learning_r = 0.001)"
   ]
  },
  {
   "cell_type": "code",
   "execution_count": 75,
   "metadata": {},
   "outputs": [
    {
     "name": "stdout",
     "output_type": "stream",
     "text": [
      "Reached epoch 0 cost J = 0.4407758\n",
      "Reached epoch 50 cost J = 0.3240612\n",
      "Reached epoch 100 cost J = 0.3119966\n",
      "Reached epoch 150 cost J = 0.30650178\n",
      "Reached epoch 200 cost J = 0.3029989\n",
      "Reached epoch 250 cost J = 0.3005179\n",
      "Reached epoch 300 cost J = 0.2983929\n",
      "Accuracy: 0.8423667\n"
     ]
    }
   ],
   "source": [
    "# 300 epochs , minibatch size = 100, learning rate = 0.001\n",
    "sess, cost_history = model(100, 300, train, labels_, logging_step = 50, learning_r = 0.001)"
   ]
  },
  {
   "cell_type": "code",
   "execution_count": 76,
   "metadata": {},
   "outputs": [
    {
     "name": "stdout",
     "output_type": "stream",
     "text": [
      "Reached epoch 0 cost J = 0.44144398\n",
      "Reached epoch 50 cost J = 0.32281595\n",
      "Reached epoch 100 cost J = 0.3119016\n",
      "Reached epoch 150 cost J = 0.30625203\n",
      "Reached epoch 200 cost J = 0.30265903\n"
     ]
    }
   ],
   "source": [
    "# 400 epochs , minibatch size = 100, learning rate = 0.001\n",
    "sess, cost_history = model(100, 400, train, labels_, logging_step = 50, learning_r = 0.001)"
   ]
  },
  {
   "cell_type": "code",
   "execution_count": null,
   "metadata": {},
   "outputs": [],
   "source": [
    "# 500 epochs , minibatch size = 100, learning rate = 0.001\n",
    "sess, cost_history = model(100, 500, train, labels_, logging_step = 50, learning_r = 0.001)"
   ]
  },
  {
   "cell_type": "code",
   "execution_count": null,
   "metadata": {},
   "outputs": [],
   "source": [
    "# 600 epochs , minibatch size = 100, learning rate = 0.001\n",
    "sess, cost_history = model(100, 600, train, labels_, logging_step = 50, learning_r = 0.001)"
   ]
  },
  {
   "cell_type": "code",
   "execution_count": null,
   "metadata": {},
   "outputs": [],
   "source": [
    "# 700 epochs , minibatch size = 100, learning rate = 0.001\n",
    "sess, cost_history = model(100, 700, train, labels_, logging_step = 50, learning_r = 0.001)"
   ]
  },
  {
   "cell_type": "code",
   "execution_count": null,
   "metadata": {},
   "outputs": [],
   "source": [
    "# 800 epochs , minibatch size = 100, learning rate = 0.001\n",
    "sess, cost_history = model(100, 800, train, labels_, logging_step = 50, learning_r = 0.001)"
   ]
  },
  {
   "cell_type": "code",
   "execution_count": null,
   "metadata": {},
   "outputs": [],
   "source": [
    "# 900 epochs , minibatch size = 100, learning rate = 0.001\n",
    "sess, cost_history = model(100, 900, train, labels_, logging_step = 50, learning_r = 0.001)"
   ]
  },
  {
   "cell_type": "code",
   "execution_count": 15,
   "metadata": {},
   "outputs": [
    {
     "name": "stdout",
     "output_type": "stream",
     "text": [
      "Reached epoch 0 cost J = 0.4367229\n",
      "Reached epoch 50 cost J = 0.32442304\n",
      "Reached epoch 100 cost J = 0.31354278\n",
      "Reached epoch 150 cost J = 0.3077331\n",
      "Reached epoch 200 cost J = 0.30409515\n",
      "Reached epoch 250 cost J = 0.30133617\n",
      "Reached epoch 300 cost J = 0.29917875\n",
      "Reached epoch 350 cost J = 0.29732043\n",
      "Reached epoch 400 cost J = 0.29568794\n",
      "Reached epoch 450 cost J = 0.2942772\n",
      "Reached epoch 500 cost J = 0.2930462\n",
      "Reached epoch 550 cost J = 0.29197603\n",
      "Reached epoch 600 cost J = 0.29106826\n",
      "Reached epoch 650 cost J = 0.29022777\n",
      "Reached epoch 700 cost J = 0.2894107\n",
      "Reached epoch 750 cost J = 0.28867462\n",
      "Reached epoch 800 cost J = 0.28798804\n",
      "Reached epoch 850 cost J = 0.28740388\n",
      "Reached epoch 900 cost J = 0.28687373\n",
      "Reached epoch 950 cost J = 0.2863618\n",
      "Reached epoch 1000 cost J = 0.2859032\n",
      "Accuracy: 0.8711333\n"
     ]
    }
   ],
   "source": [
    "# 1000 epochs , minibatch size = 100, learning rate = 0.001\n",
    "sess, cost_history = model(100, 1000, train, labels_, logging_step = 50, learning_r = 0.001)"
   ]
  },
  {
   "cell_type": "code",
   "execution_count": 14,
   "metadata": {},
   "outputs": [
    {
     "name": "stdout",
     "output_type": "stream",
     "text": [
      "Reached epoch 0 cost J = 0.43180358\n",
      "Reached epoch 50 cost J = 0.3209914\n",
      "Reached epoch 100 cost J = 0.31247938\n",
      "Reached epoch 150 cost J = 0.30781788\n",
      "Reached epoch 200 cost J = 0.3046175\n",
      "Reached epoch 250 cost J = 0.30204326\n",
      "Reached epoch 300 cost J = 0.2999763\n",
      "Reached epoch 350 cost J = 0.29834226\n",
      "Reached epoch 400 cost J = 0.29687488\n",
      "Reached epoch 450 cost J = 0.29551688\n",
      "Reached epoch 500 cost J = 0.29434285\n",
      "Reached epoch 550 cost J = 0.2932459\n",
      "Reached epoch 600 cost J = 0.29226613\n",
      "Reached epoch 650 cost J = 0.2912914\n",
      "Reached epoch 700 cost J = 0.29039\n",
      "Reached epoch 750 cost J = 0.28957483\n",
      "Reached epoch 800 cost J = 0.2888287\n",
      "Reached epoch 850 cost J = 0.28818712\n",
      "Reached epoch 900 cost J = 0.28757888\n",
      "Reached epoch 950 cost J = 0.28703883\n",
      "Reached epoch 1000 cost J = 0.28655422\n",
      "Reached epoch 1050 cost J = 0.28610343\n",
      "Reached epoch 1100 cost J = 0.28566012\n",
      "Reached epoch 1150 cost J = 0.28524348\n",
      "Reached epoch 1200 cost J = 0.2848638\n",
      "Reached epoch 1250 cost J = 0.2845134\n",
      "Reached epoch 1300 cost J = 0.28417146\n",
      "Reached epoch 1350 cost J = 0.28381386\n",
      "Reached epoch 1400 cost J = 0.28347108\n",
      "Reached epoch 1450 cost J = 0.28315794\n",
      "Reached epoch 1500 cost J = 0.28287694\n",
      "Reached epoch 1550 cost J = 0.2825871\n",
      "Reached epoch 1600 cost J = 0.28230312\n",
      "Reached epoch 1650 cost J = 0.28200877\n",
      "Reached epoch 1700 cost J = 0.28173506\n",
      "Reached epoch 1750 cost J = 0.28145048\n",
      "Reached epoch 1800 cost J = 0.2811875\n",
      "Reached epoch 1850 cost J = 0.28095302\n",
      "Reached epoch 1900 cost J = 0.2807278\n",
      "Reached epoch 1950 cost J = 0.28048936\n",
      "Reached epoch 2000 cost J = 0.2802435\n",
      "Accuracy: 0.88668334\n"
     ]
    }
   ],
   "source": [
    "# 2000 epochs , minibatch size = 100, learning rate = 0.001\n",
    "# logging_step là cứ mỗi 50 lần thì sẽ đưa ra một cost\n",
    "sess2000, cost_history2000 = model(100, 2000, train, labels_, logging_step = 50, learning_r = 0.001)"
   ]
  }
 ],
 "metadata": {
  "kernelspec": {
   "display_name": "Python 3.10.6 64-bit",
   "language": "python",
   "name": "python3"
  },
  "language_info": {
   "codemirror_mode": {
    "name": "ipython",
    "version": 3
   },
   "file_extension": ".py",
   "mimetype": "text/x-python",
   "name": "python",
   "nbconvert_exporter": "python",
   "pygments_lexer": "ipython3",
   "version": "3.10.6 (tags/v3.10.6:9c7b4bd, Aug  1 2022, 21:53:49) [MSC v.1932 64 bit (AMD64)]"
  },
  "orig_nbformat": 4,
  "vscode": {
   "interpreter": {
    "hash": "6a3ffae8020a817511732d4d0fe02060948831585d778b076daf6741c73f247a"
   }
  }
 },
 "nbformat": 4,
 "nbformat_minor": 2
}
