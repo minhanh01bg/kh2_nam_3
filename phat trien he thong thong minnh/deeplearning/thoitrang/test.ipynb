{
 "cells": [
  {
   "cell_type": "code",
   "execution_count": 37,
   "metadata": {},
   "outputs": [],
   "source": [
    "# from tensorflow.examples.tutorials.mnist import input_data\n",
    "# mnist_data = input_data.read_data_sets('MNIST_data', one_hot=True)\n",
    "import tensorflow.compat.v1 as tf\n",
    "tf.disable_v2_behavior()\n",
    "import pandas as pd\n",
    "import matplotlib.pyplot as plt\n",
    "from random import *\n",
    "import numpy as np"
   ]
  },
  {
   "cell_type": "code",
   "execution_count": 38,
   "metadata": {},
   "outputs": [
    {
     "data": {
      "text/html": [
       "<div>\n",
       "<style scoped>\n",
       "    .dataframe tbody tr th:only-of-type {\n",
       "        vertical-align: middle;\n",
       "    }\n",
       "\n",
       "    .dataframe tbody tr th {\n",
       "        vertical-align: top;\n",
       "    }\n",
       "\n",
       "    .dataframe thead th {\n",
       "        text-align: right;\n",
       "    }\n",
       "</style>\n",
       "<table border=\"1\" class=\"dataframe\">\n",
       "  <thead>\n",
       "    <tr style=\"text-align: right;\">\n",
       "      <th></th>\n",
       "      <th>label</th>\n",
       "      <th>pixel1</th>\n",
       "      <th>pixel2</th>\n",
       "      <th>pixel3</th>\n",
       "      <th>pixel4</th>\n",
       "      <th>pixel5</th>\n",
       "      <th>pixel6</th>\n",
       "      <th>pixel7</th>\n",
       "      <th>pixel8</th>\n",
       "      <th>pixel9</th>\n",
       "      <th>...</th>\n",
       "      <th>pixel775</th>\n",
       "      <th>pixel776</th>\n",
       "      <th>pixel777</th>\n",
       "      <th>pixel778</th>\n",
       "      <th>pixel779</th>\n",
       "      <th>pixel780</th>\n",
       "      <th>pixel781</th>\n",
       "      <th>pixel782</th>\n",
       "      <th>pixel783</th>\n",
       "      <th>pixel784</th>\n",
       "    </tr>\n",
       "  </thead>\n",
       "  <tbody>\n",
       "    <tr>\n",
       "      <th>0</th>\n",
       "      <td>2</td>\n",
       "      <td>0</td>\n",
       "      <td>0</td>\n",
       "      <td>0</td>\n",
       "      <td>0</td>\n",
       "      <td>0</td>\n",
       "      <td>0</td>\n",
       "      <td>0</td>\n",
       "      <td>0</td>\n",
       "      <td>0</td>\n",
       "      <td>...</td>\n",
       "      <td>0</td>\n",
       "      <td>0</td>\n",
       "      <td>0</td>\n",
       "      <td>0</td>\n",
       "      <td>0</td>\n",
       "      <td>0</td>\n",
       "      <td>0</td>\n",
       "      <td>0</td>\n",
       "      <td>0</td>\n",
       "      <td>0</td>\n",
       "    </tr>\n",
       "    <tr>\n",
       "      <th>1</th>\n",
       "      <td>9</td>\n",
       "      <td>0</td>\n",
       "      <td>0</td>\n",
       "      <td>0</td>\n",
       "      <td>0</td>\n",
       "      <td>0</td>\n",
       "      <td>0</td>\n",
       "      <td>0</td>\n",
       "      <td>0</td>\n",
       "      <td>0</td>\n",
       "      <td>...</td>\n",
       "      <td>0</td>\n",
       "      <td>0</td>\n",
       "      <td>0</td>\n",
       "      <td>0</td>\n",
       "      <td>0</td>\n",
       "      <td>0</td>\n",
       "      <td>0</td>\n",
       "      <td>0</td>\n",
       "      <td>0</td>\n",
       "      <td>0</td>\n",
       "    </tr>\n",
       "    <tr>\n",
       "      <th>2</th>\n",
       "      <td>6</td>\n",
       "      <td>0</td>\n",
       "      <td>0</td>\n",
       "      <td>0</td>\n",
       "      <td>0</td>\n",
       "      <td>0</td>\n",
       "      <td>0</td>\n",
       "      <td>0</td>\n",
       "      <td>5</td>\n",
       "      <td>0</td>\n",
       "      <td>...</td>\n",
       "      <td>0</td>\n",
       "      <td>0</td>\n",
       "      <td>0</td>\n",
       "      <td>30</td>\n",
       "      <td>43</td>\n",
       "      <td>0</td>\n",
       "      <td>0</td>\n",
       "      <td>0</td>\n",
       "      <td>0</td>\n",
       "      <td>0</td>\n",
       "    </tr>\n",
       "    <tr>\n",
       "      <th>3</th>\n",
       "      <td>0</td>\n",
       "      <td>0</td>\n",
       "      <td>0</td>\n",
       "      <td>0</td>\n",
       "      <td>1</td>\n",
       "      <td>2</td>\n",
       "      <td>0</td>\n",
       "      <td>0</td>\n",
       "      <td>0</td>\n",
       "      <td>0</td>\n",
       "      <td>...</td>\n",
       "      <td>3</td>\n",
       "      <td>0</td>\n",
       "      <td>0</td>\n",
       "      <td>0</td>\n",
       "      <td>0</td>\n",
       "      <td>1</td>\n",
       "      <td>0</td>\n",
       "      <td>0</td>\n",
       "      <td>0</td>\n",
       "      <td>0</td>\n",
       "    </tr>\n",
       "    <tr>\n",
       "      <th>4</th>\n",
       "      <td>3</td>\n",
       "      <td>0</td>\n",
       "      <td>0</td>\n",
       "      <td>0</td>\n",
       "      <td>0</td>\n",
       "      <td>0</td>\n",
       "      <td>0</td>\n",
       "      <td>0</td>\n",
       "      <td>0</td>\n",
       "      <td>0</td>\n",
       "      <td>...</td>\n",
       "      <td>0</td>\n",
       "      <td>0</td>\n",
       "      <td>0</td>\n",
       "      <td>0</td>\n",
       "      <td>0</td>\n",
       "      <td>0</td>\n",
       "      <td>0</td>\n",
       "      <td>0</td>\n",
       "      <td>0</td>\n",
       "      <td>0</td>\n",
       "    </tr>\n",
       "  </tbody>\n",
       "</table>\n",
       "<p>5 rows × 785 columns</p>\n",
       "</div>"
      ],
      "text/plain": [
       "   label  pixel1  pixel2  pixel3  pixel4  pixel5  pixel6  pixel7  pixel8  \\\n",
       "0      2       0       0       0       0       0       0       0       0   \n",
       "1      9       0       0       0       0       0       0       0       0   \n",
       "2      6       0       0       0       0       0       0       0       5   \n",
       "3      0       0       0       0       1       2       0       0       0   \n",
       "4      3       0       0       0       0       0       0       0       0   \n",
       "\n",
       "   pixel9  ...  pixel775  pixel776  pixel777  pixel778  pixel779  pixel780  \\\n",
       "0       0  ...         0         0         0         0         0         0   \n",
       "1       0  ...         0         0         0         0         0         0   \n",
       "2       0  ...         0         0         0        30        43         0   \n",
       "3       0  ...         3         0         0         0         0         1   \n",
       "4       0  ...         0         0         0         0         0         0   \n",
       "\n",
       "   pixel781  pixel782  pixel783  pixel784  \n",
       "0         0         0         0         0  \n",
       "1         0         0         0         0  \n",
       "2         0         0         0         0  \n",
       "3         0         0         0         0  \n",
       "4         0         0         0         0  \n",
       "\n",
       "[5 rows x 785 columns]"
      ]
     },
     "execution_count": 38,
     "metadata": {},
     "output_type": "execute_result"
    }
   ],
   "source": [
    "data_train =pd.read_csv('./data/fashion-mnist_train.csv',header=0)\n",
    "data_train.head()\n"
   ]
  },
  {
   "cell_type": "code",
   "execution_count": 39,
   "metadata": {},
   "outputs": [
    {
     "name": "stdout",
     "output_type": "stream",
     "text": [
      "(1, 60000)\n",
      "(784, 60000)\n"
     ]
    }
   ],
   "source": [
    "# thay đổi shape của labels bằng reshape\n",
    "# 60000 giá trị từ 0-9\n",
    "#  (vì bước sau nhân ma trận 2 chiều nên phải là 2 chiều trong khi ban đầu là 1 chiều)\n",
    "labels = data_train['label'].values.reshape(1,60000)\n",
    "# transpose để hoán vị hàng cột, (60000,784) -> (784,60000)\n",
    "train = data_train.drop('label',axis=1).values.transpose()\n",
    "\n",
    "print(labels.shape)\n",
    "# đưa giá trị pixels về 0-1 bằng cách chia cho 255 để giảm độ lớn của giá trị\n",
    "train = np.array(train/255.0)\n",
    "print(train.shape)"
   ]
  },
  {
   "cell_type": "code",
   "execution_count": 40,
   "metadata": {},
   "outputs": [
    {
     "name": "stdout",
     "output_type": "stream",
     "text": [
      "[[0. 0. 0. ... 0. 0. 0.]\n",
      " [0. 0. 0. ... 0. 0. 0.]\n",
      " [1. 0. 0. ... 0. 0. 0.]\n",
      " ...\n",
      " [0. 0. 0. ... 0. 0. 1.]\n",
      " [0. 0. 0. ... 1. 1. 0.]\n",
      " [0. 1. 0. ... 0. 0. 0.]]\n"
     ]
    }
   ],
   "source": [
    "labels_ = np.zeros((60000,10))\n",
    "labels_[np.arange(60000),labels] = 1\n",
    "# print(labels_)\n",
    "\n",
    "# 60000,10 -> 10,60000\n",
    "labels_ = labels_.transpose()\n",
    "labels_ = np.array(labels_)\n",
    "print(labels_)"
   ]
  },
  {
   "cell_type": "code",
   "execution_count": 41,
   "metadata": {},
   "outputs": [],
   "source": [
    "n_dim = 784\n",
    "\n",
    "tf.reset_default_graph()\n",
    "n1 = 5 # số lượng neural ở layer 1\n",
    "n2 = 10 # số lượng neural ở layer output\n",
    "# y = f(x) = Wx + b\n",
    "cost_history = np.empty(shape=[1],dtype=float)\n",
    "# print(cost_history)\n",
    "learning_rate = tf.placeholder(tf.float32,shape=())\n",
    "X = tf.placeholder(tf.float32,[n_dim,None]) # 784,\n",
    "Y = tf.placeholder(tf.float32,[n2,None]) # 10,\n",
    "\n",
    "W1 = tf.Variable(tf.truncated_normal([n1,n_dim],stddev=0.1)) # 5,784\n",
    "b1 = tf.Variable(tf.zeros([n1,1])) # 5,1  bias\n",
    "W2 = tf.Variable(tf.truncated_normal([n2,n1],stddev=0.1)) # 10,5\n",
    "b2 = tf.Variable(tf.zeros([n2,1])) # 10,1  bias\n",
    "Z1 = tf.nn.relu(tf.matmul(W1,X)+b1) # 5,784 * 784,1 + 5,1 = 5,1\n",
    "Z2 = tf.nn.relu(tf.matmul(W2,Z1) + b2) # 10,5 * 5,1 + 10,1 = 10,1\n",
    "y_ = tf.nn.softmax(Z2,0) # 10,1\n",
    "cost = - tf.reduce_mean(Y* tf.log(y_) + (1-Y)*tf.log(1-y_)) # as the loss function\n",
    "optimizer = tf.train.AdamOptimizer(learning_rate).minimize(cost)\n",
    "init = tf.global_variables_initializer()"
   ]
  },
  {
   "cell_type": "code",
   "execution_count": 45,
   "metadata": {},
   "outputs": [
    {
     "name": "stdout",
     "output_type": "stream",
     "text": [
      "Epoch:  0  cost:  0.32304573\n",
      "Epoch:  20  cost:  0.30922234\n",
      "Epoch:  40  cost:  0.2896137\n",
      "Epoch:  60  cost:  0.2659198\n",
      "Epoch:  80  cost:  0.24174102\n",
      "Epoch:  100  cost:  0.2206525\n",
      "Accuracy:  0.52305\n"
     ]
    }
   ],
   "source": [
    "sess = tf.Session()\n",
    "sess.run(init)\n",
    "\n",
    "training_epochs = 100\n",
    "\n",
    "for epoch in range(training_epochs+1):\n",
    "    sess.run(optimizer,feed_dict={X:train,Y:labels_,learning_rate:0.001})\n",
    "    cost_ = sess.run(cost,feed_dict={X:train,Y:labels_})\n",
    "    cost_history = np.append(cost_history,cost_)\n",
    "    if epoch % 20 == 0:\n",
    "        print('Epoch: ',epoch,' cost: ',cost_)\n",
    "\n",
    "correct_predictions = tf.equal(tf.argmax(y_,0),tf.argmax(Y,0))\n",
    "accuracy = tf.reduce_mean(tf.cast(correct_predictions,tf.float32))\n",
    "print('Accuracy: ',accuracy.eval({X:train,Y:labels_,learning_rate:0.001},session=sess))"
   ]
  },
  {
   "cell_type": "code",
   "execution_count": 11,
   "metadata": {},
   "outputs": [
    {
     "data": {
      "text/plain": [
       "array([1.5, 1.5, 1.5], dtype=float32)"
      ]
     },
     "execution_count": 11,
     "metadata": {},
     "output_type": "execute_result"
    }
   ],
   "source": [
    "import tensorflow.compat.v1 as tf\n",
    "tf.disable_v2_behavior()\n",
    "\n",
    "\n",
    "x = tf.constant([[1.,1.,1],[2.,2.,2.]],dtype=tf.float32)\n",
    "\n",
    "y = tf.reduce_mean(x,0)\n",
    "\n",
    "sess = tf.Session()\n",
    "sess.run(y)"
   ]
  },
  {
   "cell_type": "code",
   "execution_count": 9,
   "metadata": {},
   "outputs": [
    {
     "name": "stdout",
     "output_type": "stream",
     "text": [
      "[1.5 1.5 1.5]\n"
     ]
    }
   ],
   "source": [
    "import numpy as np\n",
    "\n",
    "x = [[1.,1.,1.],[2.,2.,2.]]\n",
    "\n",
    "print(np.mean(x,0))"
   ]
  },
  {
   "cell_type": "code",
   "execution_count": 7,
   "metadata": {},
   "outputs": [
    {
     "name": "stdout",
     "output_type": "stream",
     "text": [
      "[3.5 5.5 6.5]\n",
      "[3.5 5.5 6.5]\n"
     ]
    }
   ],
   "source": [
    "c = np.array([[3.,4], [5.,6], [6.,7]])\n",
    "print(np.mean(c,1))\n",
    "\n",
    "Mean = tf.reduce_mean(c,1)\n",
    "with tf.Session() as sess:\n",
    "    result = sess.run(Mean)\n",
    "    print(result)"
   ]
  },
  {
   "cell_type": "code",
   "execution_count": 1,
   "metadata": {},
   "outputs": [
    {
     "name": "stdout",
     "output_type": "stream",
     "text": [
      "WARNING:tensorflow:From c:\\Users\\fancyma\\AppData\\Local\\Programs\\Python\\Python310\\lib\\site-packages\\tensorflow\\python\\compat\\v2_compat.py:107: disable_resource_variables (from tensorflow.python.ops.variable_scope) is deprecated and will be removed in a future version.\n",
      "Instructions for updating:\n",
      "non-resource variables are not supported in the long term\n",
      "Epoch:  0  cost:  0.32465288\n",
      "Epoch:  1  cost:  0.32404456\n",
      "Epoch:  2  cost:  0.32319567\n",
      "Epoch:  3  cost:  0.32189497\n",
      "Epoch:  4  cost:  0.31986782\n",
      "Epoch:  5  cost:  0.31679794\n",
      "Epoch:  6  cost:  0.31230322\n",
      "Epoch:  7  cost:  0.3062158\n",
      "Epoch:  8  cost:  0.29932025\n",
      "Epoch:  9  cost:  0.29258546\n",
      "Epoch:  10  cost:  0.2858809\n",
      "Epoch:  11  cost:  0.27882162\n",
      "Epoch:  12  cost:  0.2717027\n",
      "Epoch:  13  cost:  0.26478723\n",
      "Epoch:  14  cost:  0.25779855\n",
      "Epoch:  15  cost:  0.25063682\n",
      "Epoch:  16  cost:  0.24365921\n",
      "Epoch:  17  cost:  0.23733586\n",
      "Epoch:  18  cost:  0.23200274\n",
      "Epoch:  19  cost:  0.22769968\n",
      "Epoch:  20  cost:  0.2242574\n",
      "accuracy:  0.46853334\n"
     ]
    }
   ],
   "source": [
    "import pandas as pd\n",
    "import numpy as np\n",
    "import matplotlib.pyplot as plt\n",
    "\n",
    "\n",
    "train = pd.read_csv('./data/fashion-mnist_train.csv',header=0)\n",
    "\n",
    "labels = train['label'].values.reshape(1,60000)\n",
    "train = train.drop('label',axis=1).values.transpose()\n",
    "train = np.array(train/255.0)\n",
    "labels_ = np.zeros((60000,10))\n",
    "labels_[np.arange(60000),labels] = 1\n",
    "\n",
    "labels_ = labels_.transpose()\n",
    "labels_ = np.array(labels_)\n",
    "\n",
    "\n",
    "import tensorflow.compat.v1 as tf\n",
    "tf.disable_v2_behavior()\n",
    "tf.reset_default_graph()\n",
    "n_dim = 784 # 28*28\n",
    "n1 = 5 # số lượng neural ở layer 1\n",
    "n2 = 32 # số lượng neural ở layer 2\n",
    "n3 = 10 # số lượng neural ở layer output\n",
    "cost_history = np.empty(shape=[1],dtype=float)\n",
    "\n",
    "learning_rate = tf.placeholder(tf.float32,shape=())\n",
    "\n",
    "X = tf.placeholder(tf.float32,[n_dim,None])\n",
    "Y = tf.placeholder(tf.float32,[n3,None])\n",
    "# standard deviation = 0.1\n",
    "# stddev = 0.1 \n",
    "# độ lệch chuẩn = 0.1 bởi vì khi tính toán giá trị của z1 ứng với neural 1, z2, z3 thì giá trị của nó sẽ rất lớn\n",
    "# khi z1 rất lớn thì hàm relu của python sẽ có khả năng trả về trá trị NaN\n",
    "W1 = tf.Variable(tf.truncated_normal([n1,n_dim],stddev=0.1,mean=0)) # 5,784\n",
    "b1 = tf.Variable(tf.zeros([n1,1])) # 5,1  bias\n",
    "W2 = tf.Variable(tf.truncated_normal([n2,n1],stddev=0.1)) # 32,5\n",
    "b2 = tf.Variable(tf.zeros([n2,1])) # 32,1  bias\n",
    "W3 = tf.Variable(tf.truncated_normal([n3,n2],stddev=0.1)) # 10,32\n",
    "b3 = tf.Variable(tf.zeros([n3,1])) # 10,1  bias\n",
    "\n",
    "Z1 = tf.nn.relu(tf.matmul(W1,X) + b1) \n",
    "Z2 = tf.nn.relu(tf.matmul(W2,Z1) + b2)\n",
    "Z3 = tf.nn.relu(tf.matmul(W3,Z2) + b3)\n",
    "\n",
    "y_ = tf.nn.softmax(Z3,0) # 10,1\n",
    "cost = - tf.reduce_mean(Y* tf.log(y_) + (1-Y)*tf.log(1-y_)) # as the loss function\n",
    "\n",
    "optimizer= tf.train.GradientDescentOptimizer(learning_rate).minimize(cost)\n",
    "init = tf.global_variables_initializer()\n",
    "\n",
    "sess = tf.Session()\n",
    "\n",
    "sess.run(init)\n",
    "\n",
    "# epochs = 100\n",
    "# for i in range(epochs+1):\n",
    "#     sess.run(optimizer,feed_dict={X:train,Y:labels_,learning_rate:0.001})\n",
    "#     cost_ = sess.run(cost,feed_dict={X:train,Y:labels_})\n",
    "#     cost_history= np.append(cost_history,cost_)\n",
    "#     if i % 20 == 0:        \n",
    "#         print('Epoch: ',i,' cost: ',cost_)\n",
    "        \n",
    "# correct_predictions = tf.equal(tf.argmax(y_,0),tf.argmax(Y,0))\n",
    "# accuracy = tf.reduce_mean(tf.cast(correct_predictions,tf.float32))\n",
    "# print(\"accuracy: \",accuracy.eval({X:train,Y:labels_,learning_rate:0.001},session=sess))\n",
    "epochs = 20\n",
    "minibatch_size = 1\n",
    "for i in range(epochs+1):\n",
    "    for j in range(0, train.shape[1],minibatch_size):\n",
    "        X_train_mini = train[:,j:j+minibatch_size] # 784,1\n",
    "        Y_train_mini = labels_[:,j:j+minibatch_size]\n",
    "        sess.run(optimizer,feed_dict={X:X_train_mini,Y:Y_train_mini,learning_rate:0.0001})\n",
    "    \n",
    "    cost_ = sess.run(cost,feed_dict={X:train,Y:labels_,learning_rate:0.0001})\n",
    "    cost_history = np.append(cost_history,cost_)\n",
    "    if (i % 1 == 0):\n",
    "        print('Epoch: ',i,' cost: ',cost_)\n",
    "\n",
    "correct_predictions = tf.equal(tf.argmax(y_,0),tf.argmax(Y,0))\n",
    "accuracy = tf.reduce_mean(tf.cast(correct_predictions,tf.float32))\n",
    "print(\"accuracy: \",accuracy.eval({X:train,Y:labels_,learning_rate:0.0001},session=sess))"
   ]
  },
  {
   "cell_type": "code",
   "execution_count": 2,
   "metadata": {},
   "outputs": [
    {
     "data": {
      "image/png": "[encoded data removed]",
      "text/plain": [
       "<Figure size 640x480 with 1 Axes>"
      ]
     },
     "metadata": {},
     "output_type": "display_data"
    }
   ],
   "source": [
    "plt.plot(cost_history)\n",
    "plt.show()"
   ]
  },
  {
   "cell_type": "code",
   "execution_count": 12,
   "metadata": {},
   "outputs": [
    {
     "name": "stdout",
     "output_type": "stream",
     "text": [
      "Epoch:  0  cost:  0.31971088\n",
      "Epoch:  50  cost:  nan\n",
      "Epoch:  100  cost:  nan\n",
      "accuracy:  0.1\n"
     ]
    }
   ],
   "source": [
    "epochs = 100\n",
    "minibatch_size = 3000\n",
    "for i in range(epochs+1):\n",
    "    for j in range(0, train.shape[1],minibatch_size):\n",
    "        X_train_mini = train[:,j:j+minibatch_size] # 784,3000\n",
    "        Y_train_mini = labels_[:,j:j+minibatch_size]\n",
    "        sess.run(optimizer,feed_dict={X:X_train_mini,Y:Y_train_mini,learning_rate:0.001})\n",
    "    \n",
    "    cost_ = sess.run(cost,feed_dict={X:train,Y:labels_,learning_rate:0.001})\n",
    "    cost_history = np.append(cost_history,cost_)\n",
    "    if (i % 50 == 0):\n",
    "        print('Epoch: ',i,' cost: ',cost_)\n",
    "\n",
    "correct_predictions = tf.equal(tf.argmax(y_,0),tf.argmax(Y,0))\n",
    "accuracy = tf.reduce_mean(tf.cast(correct_predictions,tf.float32))\n",
    "print(\"accuracy: \",accuracy.eval({X:train,Y:labels_,learning_rate:0.001},session=sess))"
   ]
  },
  {
   "cell_type": "code",
   "execution_count": 2,
   "metadata": {},
   "outputs": [
    {
     "name": "stdout",
     "output_type": "stream",
     "text": [
      "[[1 2 3]\n",
      " [4 5 6]]\n"
     ]
    }
   ],
   "source": [
    "import numpy as np\n",
    "\n",
    "a1 = np.array([[1,2,3],[4,5,6]])\n",
    "\n",
    "print(a1)"
   ]
  },
  {
   "cell_type": "code",
   "execution_count": 6,
   "metadata": {},
   "outputs": [
    {
     "name": "stdout",
     "output_type": "stream",
     "text": [
      "[0. 0. 0. 0. 0. 0. 0. 0. 0. 0.]\n"
     ]
    }
   ],
   "source": [
    "a2 = np.zeros([10])\n",
    "print(a2)"
   ]
  },
  {
   "cell_type": "code",
   "execution_count": 7,
   "metadata": {},
   "outputs": [
    {
     "name": "stdout",
     "output_type": "stream",
     "text": [
      "[[[2 4 0 6]\n",
      "  [4 7 5 6]]\n",
      "\n",
      " [[0 3 2 1]\n",
      "  [9 4 5 6]]\n",
      "\n",
      " [[5 8 6 4]\n",
      "  [1 4 6 8]]]\n"
     ]
    }
   ],
   "source": [
    "arr2 = np.array(([(2,4,0,6), (4,7,5,6)],\n",
    "                 [(0,3,2,1), (9,4,5,6)],\n",
    "                 [(5,8,6,4), (1,4,6,8)]), dtype = int)\n",
    "\n",
    "print(arr2)"
   ]
  }
 ],
 "metadata": {
  "kernelspec": {
   "display_name": "Python 3.10.6 64-bit",
   "language": "python",
   "name": "python3"
  },
  "language_info": {
   "codemirror_mode": {
    "name": "ipython",
    "version": 3
   },
   "file_extension": ".py",
   "mimetype": "text/x-python",
   "name": "python",
   "nbconvert_exporter": "python",
   "pygments_lexer": "ipython3",
   "version": "3.10.6 (tags/v3.10.6:9c7b4bd, Aug  1 2022, 21:53:49) [MSC v.1932 64 bit (AMD64)]"
  },
  "orig_nbformat": 4,
  "vscode": {
   "interpreter": {
    "hash": "6a3ffae8020a817511732d4d0fe02060948831585d778b076daf6741c73f247a"
   }
  }
 },
 "nbformat": 4,
 "nbformat_minor": 2
}
